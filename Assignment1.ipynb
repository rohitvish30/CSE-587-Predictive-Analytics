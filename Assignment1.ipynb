{
  "nbformat": 4,
  "nbformat_minor": 0,
  "metadata": {
    "kernelspec": {
      "display_name": "Python 3",
      "language": "python",
      "name": "python3"
    },
    "language_info": {
      "codemirror_mode": {
        "name": "ipython",
        "version": 3
      },
      "file_extension": ".py",
      "mimetype": "text/x-python",
      "name": "python",
      "nbconvert_exporter": "python",
      "pygments_lexer": "ipython3",
      "version": "3.7.4"
    },
    "colab": {
      "name": "DIC_assignment1.ipynb",
      "provenance": [],
      "collapsed_sections": [],
      "machine_shape": "hm"
    }
  },
  "cells": [
    {
      "cell_type": "code",
      "metadata": {
        "id": "uyq7EKRDqMVK",
        "colab_type": "code",
        "colab": {}
      },
      "source": [
        "from collections import Counter \n",
        "# Necessary libraries to import (for scratch)\n",
        "import numpy as np\n",
        "import pandas as pd\n",
        "\n",
        "# Implementing the Predicitve Models using Sklearn\n",
        "import sklearn\n",
        "from sklearn import linear_model\n",
        "from sklearn import preprocessing\n",
        "from sklearn.tree import DecisionTreeClassifier ## Decision Tree\n",
        "from sklearn.linear_model import LogisticRegression ## for Logistic Regression\n",
        "from sklearn.svm import SVC ## for SVM\n",
        "from sklearn.neighbors import KNeighborsClassifier ## For KNN\n",
        "from sklearn.ensemble import VotingClassifier\n",
        "\n",
        "#for measuring the accuracy,precision,recall and confusion matrix\n",
        "from sklearn.metrics import classification_report,confusion_matrix,accuracy_score,precision_score,recall_score\n",
        "#from sklearn.metrics import confusion_matrix\n",
        "\n",
        "# for plotting the models \n",
        "import matplotlib.pyplot as plt\n",
        "\n",
        "#for GridSearch Hyperparametes checking\n",
        "from sklearn.model_selection import GridSearchCV\n",
        "from copy import deepcopy\n",
        "import random"
      ],
      "execution_count": 0,
      "outputs": []
    },
    {
      "cell_type": "code",
      "metadata": {
        "id": "qUE_I1lIr3hP",
        "colab_type": "code",
        "outputId": "c02ddd05-b909-4f3c-c577-df98c8049e7d",
        "colab": {
          "base_uri": "https://localhost:8080/",
          "height": 34
        }
      },
      "source": [
        "#for google Colab\n",
        "from google.colab import drive\n",
        "drive.mount('/content/gdrive/')"
      ],
      "execution_count": 0,
      "outputs": [
        {
          "output_type": "stream",
          "text": [
            "Drive already mounted at /content/gdrive/; to attempt to forcibly remount, call drive.mount(\"/content/gdrive/\", force_remount=True).\n"
          ],
          "name": "stdout"
        }
      ]
    },
    {
      "cell_type": "code",
      "metadata": {
        "id": "WB4T8wjZRr4G",
        "colab_type": "code",
        "colab": {}
      },
      "source": [
        "path=\"/content/gdrive/My Drive/Colab Notebooks/data.csv\""
      ],
      "execution_count": 0,
      "outputs": []
    },
    {
      "cell_type": "code",
      "metadata": {
        "id": "_1elddsqWpuP",
        "colab_type": "code",
        "colab": {}
      },
      "source": [
        "df=pd.read_csv(path)"
      ],
      "execution_count": 0,
      "outputs": []
    },
    {
      "cell_type": "code",
      "metadata": {
        "id": "w0dUNQUDWrHI",
        "colab_type": "code",
        "colab": {}
      },
      "source": [
        "Y_data=df[\"48\"]\n",
        "X_data=df.loc[:, df.columns != '48']"
      ],
      "execution_count": 0,
      "outputs": []
    },
    {
      "cell_type": "code",
      "metadata": {
        "id": "IKmFkoq6W75x",
        "colab_type": "code",
        "colab": {}
      },
      "source": [
        "# create random train/test split only using np and pd\n",
        "indices = list(range(X_data.shape[0]))\n",
        "number_of_rows = int(0.8 * X_data.shape[0])\n",
        "np.random.shuffle(indices)\n",
        "train_indices = indices[:number_of_rows]\n",
        "test_indices = indices[number_of_rows:]\n",
        "\n",
        "# split the actual data\n",
        "X_train, X_test = X_data.iloc[train_indices], X_data.iloc[test_indices]\n",
        "Y_train, Y_test = Y_data.iloc[train_indices], Y_data.iloc[test_indices]\n",
        "\n",
        "#converting dataframe type to array\n",
        "X_train=X_train.values\n",
        "y_train=Y_train.values\n",
        "X_test=X_test.values\n",
        "y_test=Y_test.values"
      ],
      "execution_count": 0,
      "outputs": []
    },
    {
      "cell_type": "code",
      "metadata": {
        "id": "LZ02UaR2qMVO",
        "colab_type": "code",
        "colab": {}
      },
      "source": [
        "# -*- coding: utf-8 -*-\n",
        "\"\"\"\n",
        "Predicitve_Analytics.py\n",
        "\"\"\"\n",
        "labels=[]\n",
        "classifiers=[]\n",
        "ensemble_predict=[]\n",
        "\n",
        "#Utility Fucntions\n",
        "def eucl_distance(x1,x2):\n",
        "  return np.sqrt(np.sum((x1-x2)**2))\n",
        "    \n",
        "\n",
        "## Classifer Functions\n",
        "def ConfusionMatrix(y_true,y_pred):\n",
        "  \n",
        "  row = len(np.unique(y_true)) # Number of classes \n",
        "  confusion_matrix = np.zeros((row+1, row+1))\n",
        "  for i in range(len(y_true)):\n",
        "    confusion_matrix[y_true[i]][y_pred[i]] += 1\n",
        "  return np.vstack( confusion_matrix[1:row+1,1:row+1] ).astype(int)\n",
        "\n",
        "def Accuracy(y_true,y_pred):\n",
        "  return np.sum(y_true==y_pred)/len(y_true)\n",
        "\n",
        "def Recall(y_true,y_pred):\n",
        "  cm = ConfusionMatrix(y_true, y_pred)\n",
        "  recall = np.diag(cm) / np.sum(cm, axis = 1)\n",
        "  return np.mean(recall)\n",
        "\n",
        "def Precision(y_true,y_pred):\n",
        "  cm = ConfusionMatrix(y_true, y_pred)\n",
        "  precision = np.diag(cm) / np.sum(cm, axis = 0)\n",
        "  return np.mean(precision)\n",
        "\n",
        "def WCSS(Clusters):\n",
        "  #WCSS\n",
        "  # Calculating mean of every clusters\n",
        "  dist_sum = 0\n",
        "  Cluster_mean = []\n",
        "  Cluster_mean = np.mean(Kmean_centers, axis = 0)\n",
        "  Cluster_mean\n",
        "  # calculating distance from every centroid\n",
        "  dist = np.zeros(len(Cluster_mean))\n",
        "  for k in range(Kmean_centers.shape[0]):\n",
        "    dist[k] = (((Cluster_mean[k] - Kmean_centers[k][np.newaxis,:]) ** 2).sum(axis=1)).sum(axis=0)\n",
        "  dist_sum =(dist.sum(axis=-1))\n",
        "  return (dist_sum)\n",
        "\n",
        "def KNN(X_train,X_test,Y_train,k):\n",
        "  X_train_new = (X_train- np.mean(X_train, axis=0)) / np.std(X_train, axis=0)\n",
        "  X_test_new = (X_test- np.mean(X_test, axis=0)) / np.std(X_test, axis=0)\n",
        "  def predict(X_test):\n",
        "    predicted_labels=[_predict(x) for x in X_test_new]\n",
        "    return np.array(predicted_labels)\n",
        "    \n",
        "  def _predict(x):\n",
        "    dist=[eucl_distance(x,x_train) for x_train in X_train_new]\n",
        "    top_k_nearest_indices=np.argsort(dist)[:k]\n",
        "    k_nearest_labels=[Y_train[i] for i in top_k_nearest_indices]\n",
        "    most_common=Counter(k_nearest_labels).most_common(1)\n",
        "    return most_common[0][0]\n",
        "    \n",
        "  predicted_y=predict(X_test)\n",
        "    \n",
        "  return predicted_y\n",
        "    \n",
        "    \n",
        "        \n",
        "        \n",
        "def RandomForest(X_train,Y_train,X_test):\n",
        "#https://machinelearningmastery.com/implement-random-forest-scratch-python/\n",
        "#https://www.python-course.eu/Random_Forests.php\n",
        "\n",
        "    def create_dataframe(x_train,y_train,x_test):\n",
        "      df1=pd.DataFrame(x_train)\n",
        "      df2=pd.DataFrame(y_train)\n",
        "      test_df=pd.DataFrame(x_test)\n",
        "      train_df=pd.concat((df1,df2),axis=1)\n",
        "      return train_df,test_df\n",
        "\n",
        "\n",
        "    x_train, x_test = create_dataframe(X_train, Y_train, X_test)\n",
        "\n",
        "    train_df,test_df=create_dataframe(x_train,y_train,x_test)\n",
        "    train_df[\"label\"] = train_df.iloc[:,-1]\n",
        "    train_df.drop(train_df.columns[48], inplace=True)\n",
        "    column_names = []\n",
        "    for column in train_df.columns:\n",
        "        column=str(column)\n",
        "        name = column.replace(\" \", \"_\")\n",
        "        column_names.append(name)\n",
        "    train_df.columns = column_names\n",
        "\n",
        "\n",
        "    test_column_names = []\n",
        "    for column in test_df.columns:\n",
        "        column=str(column)\n",
        "        name = column.replace(\" \", \"_\")\n",
        "        test_column_names.append(name)\n",
        "    test_df.columns = test_column_names\n",
        "\n",
        "    def purity_check(data):\n",
        "\n",
        "        col_label = data[:, -1]\n",
        "        unique_class = np.unique(col_label)\n",
        "\n",
        "        if len(unique_class) == 1:\n",
        "            return True\n",
        "        else:\n",
        "            return False\n",
        "\n",
        "    def data_classification(data):\n",
        "\n",
        "        col_label = data[:, -1]\n",
        "        unique_class, unique_count = np.unique(col_label, return_counts=True)\n",
        "\n",
        "        idx = unique_count.argmax()\n",
        "        classify_data = unique_class[idx]\n",
        "\n",
        "        return classify_data\n",
        "\n",
        "    def potential_decision_split(data, rand_sub):\n",
        "        potential_split = {}\n",
        "        col_idxs = list(range(data.shape[1] - 1))  # excluding the last column which is the label\n",
        "\n",
        "        if rand_sub and rand_sub <= len(col_idxs):\n",
        "            col_idxs = random.sample(population=col_idxs, k=rand_sub)\n",
        "\n",
        "        for col_index in col_idxs:\n",
        "            values = data[:, col_index]\n",
        "            unique_values = np.unique(values)\n",
        "            potential_split[col_index] = unique_values\n",
        "\n",
        "        return potential_split\n",
        "\n",
        "    def cal_entropy(data):\n",
        "\n",
        "        col_label = data[:, -1]\n",
        "        _, counts = np.unique(col_label, return_counts=True)\n",
        "\n",
        "        probs = counts / counts.sum()\n",
        "        entropy = sum(probs * -np.log2(probs))\n",
        "\n",
        "        return entropy\n",
        "\n",
        "    def cal_total_entropy(data_b, data_a):\n",
        "\n",
        "        n = len(data_b) + len(data_a)\n",
        "        p_data_b = len(data_b) / n\n",
        "        p_data_a = len(data_a) / n\n",
        "\n",
        "        total_entropy = (p_data_b * cal_entropy(data_b)\n",
        "                         + p_data_a * cal_entropy(data_a))\n",
        "\n",
        "        return total_entropy\n",
        "\n",
        "    def best_decision_split(data, potential_split):\n",
        "\n",
        "        overall_entropy = 3456\n",
        "        for col_idx in potential_split:\n",
        "            for val in potential_split[col_idx]:\n",
        "                data_b, data_a = split_data(data, split_col=col_idx, split_val=val)\n",
        "                current_total_entropy = cal_total_entropy(data_b, data_a)\n",
        "\n",
        "                if current_total_entropy <= overall_entropy:\n",
        "                    overall_entropy = current_total_entropy\n",
        "                    best_col_split = col_idx\n",
        "                    best_split_val = val\n",
        "\n",
        "        return best_col_split, best_split_val\n",
        "\n",
        "    def split_data(data, split_col, split_val):\n",
        "\n",
        "        split_column_val = data[:, split_col]\n",
        "        data_b = data[split_column_val <= split_val]\n",
        "        data_a = data[split_column_val > split_val]\n",
        "\n",
        "        return data_b, data_a\n",
        "\n",
        "    def decision_tree_algo(stats, counter=0, sampe_min=2, max_dep=5, rand_sub=None):\n",
        "\n",
        "        # data preparations\n",
        "        if counter == 0:\n",
        "            global COLUMN_HEADERS\n",
        "            COLUMN_HEADERS = stats.columns\n",
        "            data = stats.values\n",
        "        else:\n",
        "            data = stats\n",
        "\n",
        "            # base cases\n",
        "        if (purity_check(data)) or (len(data) < sampe_min) or (counter == max_dep):\n",
        "            classification = data_classification(data)\n",
        "\n",
        "            return classification\n",
        "\n",
        "\n",
        "        # recursive part\n",
        "        else:\n",
        "            counter += 1\n",
        "\n",
        "            potential_split = potential_decision_split(data, rand_sub)\n",
        "            split_col, split_val = best_decision_split(data, potential_split)\n",
        "            data_b, data_a = split_data(data, split_col, split_val)\n",
        "\n",
        "            if len(data_b) == 0 or len(data_a) == 0:\n",
        "                classification = data_classification(data)\n",
        "                return classification\n",
        "\n",
        "            feature_name = COLUMN_HEADERS[split_col]\n",
        "            question = \"{} <= {}\".format(feature_name, split_val)\n",
        "\n",
        "            sub_tree = {question: []}\n",
        "\n",
        "            y_ans = decision_tree_algo(data_b, counter, sampe_min, max_dep, rand_sub)\n",
        "            n_ans = decision_tree_algo(data_a, counter, sampe_min, max_dep, rand_sub)\n",
        "\n",
        "            if y_ans == n_ans:\n",
        "                sub_tree = y_ans\n",
        "            else:\n",
        "                sub_tree[question].append(y_ans)\n",
        "                sub_tree[question].append(n_ans)\n",
        "\n",
        "            return sub_tree\n",
        "\n",
        "    def example_predict(exp, t):\n",
        "        ques = list(t.keys())[0]\n",
        "        feature_name, comparison_op, val = ques.split(\" \")\n",
        "\n",
        "        if int(exp[feature_name]) <= float(val):\n",
        "            ans = t[ques][0]\n",
        "        else:\n",
        "            ans = t[ques][1]\n",
        "        if not isinstance(ans, dict):\n",
        "            return ans\n",
        "        else:\n",
        "            tree = ans\n",
        "        return example_predict(exp, tree)\n",
        "\n",
        "    def decision_tree_predict(test, t):\n",
        "        predict = test.apply(example_predict, args=(t,), axis=1)\n",
        "        return predict\n",
        "\n",
        "    def random_forest_algo(train, num_tree, n_btstrp, num_features, dt_max_dep):\n",
        "        forest = []\n",
        "        for i in range(num_tree):\n",
        "            btstrp_idx = np.random.randint(low=0, high=len(train), size=n_btstrp)\n",
        "            stats_btstrp = train.iloc[btstrp_idx]\n",
        "            tree = decision_tree_algo(stats_btstrp, max_dep=dt_max_dep, rand_sub=num_features)\n",
        "            forest.append(tree)\n",
        "\n",
        "        return forest\n",
        "\n",
        "    def random_forest_predict(test, forest):\n",
        "        stats_prediction = {}\n",
        "        for i in range(len(forest)):\n",
        "            col_name = \"tree_{}\".format(i)\n",
        "            predictions = decision_tree_predict(test, t=forest[i])\n",
        "            stats_prediction[col_name] = predictions\n",
        "\n",
        "        stats_prediction = pd.DataFrame(stats_prediction)\n",
        "        random_forest_predict = stats_prediction.mode(axis=1)[0]\n",
        "\n",
        "        return random_forest_predict\n",
        "\n",
        "\n",
        "    forest = random_forest_algo(train_df, num_tree=60, n_btstrp=600, num_features=2, dt_max_dep=10)\n",
        "    predictions = random_forest_predict(test_df, forest)\n",
        "    y_pred = predictions.to_numpy()\n",
        "    return y_pred\n",
        "    \n",
        "def PCA(X_train,N):\n",
        "\n",
        "    \n",
        "    X_new = (X_train- np.mean(X_train, axis=0)) / np.std(X_train, axis=0)\n",
        "    X_cov=np.cov(X_new.T)\n",
        "\n",
        "    eigen_values,eigen_vectors=np.linalg.eig(X_cov)\n",
        "    #print(eigen_vectors)\n",
        "\n",
        "    #making a list of  eigenvalue,eigenvector\n",
        "    eig_pairs = [(np.abs(eigen_values[i]), eigen_vectors[:,i]) for i in range(len(eigen_values))]\n",
        "\n",
        "    #Sort from high to low\n",
        "    eig_pairs.sort(key=lambda x: x[0],reverse=True)\n",
        "\n",
        "    tot=sum(eigen_values)\n",
        "    #To check which feature has maximum variance\n",
        "    variance_=[(i/tot)*100 for i in sorted(eigen_values,reverse=True)]\n",
        "    #to check till what feature we have maximum covariance\n",
        "    cumulative_variance_=np.cumsum(variance_)\n",
        "\n",
        "    matrix_new=np.hstack(eig_pairs[i][1].reshape(X_train.shape[1],1) for i in range(N))\n",
        "    new_dataset=X_train.dot(matrix_new)\n",
        "    return new_dataset\n",
        "    \n",
        "def Kmeans(X_train,N):\n",
        "    #https: // mubaris.com / posts / kmeans - clustering /\n",
        "    #http: // madhugnadig.com / articles / machine - learning / 2017 / 03 / 04 / implementing - k - means - clustering -from-scratch - in -python.html\n",
        "    #https: // www.kaggle.com / andyxie / k - means - clustering - implementation - in -python\n",
        "    # Number of clusters\n",
        "    K = N\n",
        "    # Number of training data\n",
        "    n = X_train.shape[0]\n",
        "    # Number of features in the data\n",
        "    c = X_train.shape[1]\n",
        "\n",
        "    # Generating random centers\n",
        "    mean = np.mean(X_train, axis = 0)\n",
        "    std = np.std(X_train, axis = 0)\n",
        "    Kmean_centers = np.random.randn(K,c)*std + mean\n",
        "\n",
        "    Kmean_centers_old = np.zeros(Kmean_centers.shape) # to store old centers\n",
        "    Kmean_centers_new = deepcopy(Kmean_centers) # Store new centers\n",
        "\n",
        "    kmean_clusters = np.zeros(n)\n",
        "    dist = np.zeros((n,K))\n",
        "\n",
        "    error = np.linalg.norm(Kmean_centers_new - Kmean_centers_old)\n",
        "\n",
        "    # Converging the loop\n",
        "    while error != 0:\n",
        "      # Calculate the distance from every center\n",
        "      for i in range(K):\n",
        "        dist[:,i] = np.linalg.norm(X_train - Kmean_centers[i], axis=1)\n",
        "      # G all training data to closest center\n",
        "        kmean_clusters = np.argmin(dist, axis = 1)\n",
        "\n",
        "        Kmean_centers_old = deepcopy(Kmean_centers_new)\n",
        "      # Calculate mean for every cluster and update the center\n",
        "      for i in range(K):\n",
        "        Kmean_centers_new[i] = np.mean(X_train[kmean_clusters == i], axis=0)\n",
        "        error = np.linalg.norm(Kmean_centers_new - Kmean_centers_old)\n",
        "    return Kmean_centers_new\n",
        "\n",
        "def SklearnSupervisedLearning(X_train,Y_train,X_test):\n",
        "    \n",
        "    ##--------Support Vector Machines ------- ##\n",
        "    print(\"--------- Performing SVM Classification ---------\")  \n",
        "    svclassifier = SVC(kernel='linear')\n",
        "    svclassifier.fit(X_train, Y_train)\n",
        "    y_pred = svclassifier.predict(X_test)\n",
        "    print(\"Accuracy of SVM model: \"+str(Accuracy(y_test,y_pred)))\n",
        "    labels.append(\"SVM\")\n",
        "    ensemble_predict.append(y_pred)\n",
        "\n",
        "    ## --------Logistic Regression ---------- ##\n",
        "    print(\"--------- Performing Logistic Regression ----------\")\n",
        "    lg_classifier = LogisticRegression(dual=False,solver='newton-cg',multi_class='multinomial',max_iter=400).fit(X_train, y_train)\n",
        "    #lg_classifier = LogisticRegression().fit(X_train, y_train)\n",
        "    y_pred=lg_classifier.predict(X_test)\n",
        "    print(\"Accuracy of Logistic Regression model: \"+str(Accuracy(y_test,y_pred)))\n",
        "    labels.append(\"Logistic Regression\")\n",
        "    ensemble_predict.append(y_pred)    \n",
        "    \n",
        "    # ## --------- Decision Tree ------------ ##\n",
        "    print(\"--------- Performing Decision Tree Classification ---------\")\n",
        "    dt_classifer = DecisionTreeClassifier().fit(X_train, Y_train)\n",
        "    y_pred=dt_classifer.predict(X_test)\n",
        "    print(\"Accuracy of Decision Tree model: \"+str(Accuracy(y_test,y_pred)))\n",
        "    labels.append(\"Decision Tree\")\n",
        "    ensemble_predict.append(y_pred)\n",
        "\n",
        "    ## ------------- KNN ----------------- ##\n",
        "    print(\"--------- Performing KNN Classification ---------\")\n",
        "    ## Normalizing the data\n",
        "    X_train_new = (X_train- np.mean(X_train, axis=0)) / np.std(X_train, axis=0)\n",
        "    X_test_new = (X_test- np.mean(X_test, axis=0)) / np.std(X_test, axis=0)\n",
        "    ## Implementing the sklearn model of KNN\n",
        "    k=5\n",
        "    knn_classifier=KNeighborsClassifier(n_neighbors=k)\n",
        "    knn_classifier.fit(X_train_new,Y_train)\n",
        "    y_pred=knn_classifier.predict(X_test_new)\n",
        "    print(\"Accuracy of KNN model: \"+str(Accuracy(y_test,y_pred)))\n",
        "    labels.append(\"KNN\")\n",
        "    ensemble_predict.append(y_pred)\n",
        "\n",
        "    return ensemble_predict\n",
        "\n",
        "\n",
        "def SklearnVotingClassifier(X_train,Y_train,X_test):\n",
        "  # Declaring the classifiers which is to be used for VotingClassifier for prediction\n",
        "  print(\"----------- Preforming VotingClassifier ----------\")\n",
        "  clf1=SVC(kernel='linear')\n",
        "  clf2=LogisticRegression(dual=False,solver='newton-cg',multi_class='multinomial',max_iter=500)\n",
        "  clf3=DecisionTreeClassifier()\n",
        "  clf4=KNeighborsClassifier(n_neighbors=10)\n",
        "\n",
        "  # Using the models for voting based classification (used hard voting classifier to get the most frequent predictions from other classifers)\n",
        "  voting_clf_hard=VotingClassifier(estimators=[(labels[0],clf1),(labels[1],clf2),(labels[2],clf3),(labels[3],clf4)],voting='hard')\n",
        "  voting_clf_hard.fit(X_train,Y_train)\n",
        "  y_pred=voting_clf_hard.predict(X_test)\n",
        "  print(\"Accuracy of Voting Classifier : \"+str(Accuracy(y_test,y_pred)))\n",
        "  labels.append(\"Voting Classifier\")\n",
        "  ensemble_predict.append(y_pred)\n",
        "  return y_pred\n",
        "\n",
        "def plot_my_graph(y_test):\n",
        "  i=0\n",
        "  for i in range(len(ensemble_predict)):\n",
        "    rangeforticks=np.max(np.unique(y_test))\n",
        "    cm=ConfusionMatrix(y_test,ensemble_predict[i])\n",
        "    fig = plt.figure(figsize=(10,7)) \n",
        "    ax = fig.add_subplot(111) \n",
        "    cax = ax.matshow(cm) \n",
        "    plt.title(labels[i]) \n",
        "    plt.xticks(np.arange(len(np.unique(y_test))), (np.unique(y_test)))\n",
        "    plt.yticks(np.arange(len(np.unique(y_test))), (np.unique(y_test)))\n",
        "    fig.colorbar(cax)\n",
        "    plt.xlabel('Predicted') \n",
        "    plt.ylabel('True') \n",
        "    plt.show()\n",
        "  \n"
      ],
      "execution_count": 0,
      "outputs": []
    },
    {
      "cell_type": "code",
      "metadata": {
        "id": "_rcpmERqJf4R",
        "colab_type": "code",
        "outputId": "f412e7a9-1561-468e-c73a-e5451d98e36d",
        "colab": {
          "base_uri": "https://localhost:8080/",
          "height": 158
        }
      },
      "source": [
        "#Evaluating Models\n",
        "all_classifiers=SklearnSupervisedLearning(X_train,y_train,X_test)\n"
      ],
      "execution_count": 0,
      "outputs": [
        {
          "output_type": "stream",
          "text": [
            "--------- Performing SVM Classification ---------\n",
            "Accuracy of SVM model: 0.8585205078125\n",
            "--------- Performing Logistic Regression ----------\n",
            "Accuracy of Logistic Regression model: 0.7962646484375\n",
            "--------- Performing Decision Tree Classification ---------\n",
            "Accuracy of Decision Tree model: 0.982421875\n",
            "--------- Performing KNN Classification ---------\n",
            "Accuracy of KNN model: 0.8040771484375\n"
          ],
          "name": "stdout"
        }
      ]
    },
    {
      "cell_type": "code",
      "metadata": {
        "id": "siOsv5dXPou4",
        "colab_type": "code",
        "outputId": "4ce828f5-8c4c-4264-d722-16d731c0d5c8",
        "colab": {
          "base_uri": "https://localhost:8080/",
          "height": 52
        }
      },
      "source": [
        "only_voting=SklearnVotingClassifier(X_train,y_train,X_test)"
      ],
      "execution_count": 0,
      "outputs": [
        {
          "output_type": "stream",
          "text": [
            "----------- Preforming VotingClassifier ----------\n",
            "Accuracy of Voting Classifier : 0.8768310546875\n"
          ],
          "name": "stdout"
        }
      ]
    },
    {
      "cell_type": "code",
      "metadata": {
        "id": "St0U_x_RURty",
        "colab_type": "code",
        "outputId": "449107e1-abb6-470b-8026-df2c8049d338",
        "colab": {
          "base_uri": "https://localhost:8080/",
          "height": 1000
        }
      },
      "source": [
        "#Plot Confusion Matrix for all 5 models\n",
        "plot_my_graph(y_test)"
      ],
      "execution_count": 0,
      "outputs": [
        {
          "output_type": "display_data",
          "data": {
            "image/png": "[encoded data removed]",
            "text/plain": [
              "<Figure size 576x360 with 2 Axes>"
            ]
          },
          "metadata": {
            "tags": []
          }
        },
        {
          "output_type": "display_data",
          "data": {
            "image/png": "[encoded data removed]",
            "text/plain": [
              "<Figure size 576x360 with 2 Axes>"
            ]
          },
          "metadata": {
            "tags": []
          }
        },
        {
          "output_type": "display_data",
          "data": {
            "image/png": "[encoded data removed]",
            "text/plain": [
              "<Figure size 576x360 with 2 Axes>"
            ]
          },
          "metadata": {
            "tags": []
          }
        },
        {
          "output_type": "display_data",
          "data": {
            "image/png": "[encoded data removed]",
            "text/plain": [
              "<Figure size 576x360 with 2 Axes>"
            ]
          },
          "metadata": {
            "tags": []
          }
        },
        {
          "output_type": "display_data",
          "data": {
            "image/png": "[encoded data removed]",
            "text/plain": [
              "<Figure size 576x360 with 2 Axes>"
            ]
          },
          "metadata": {
            "tags": []
          }
        }
      ]
    },
    {
      "cell_type": "code",
      "metadata": {
        "id": "wS6FrKLRVjAk",
        "colab_type": "code",
        "colab": {}
      },
      "source": [
        "def GridSearch_decisionTree(X_train,y_train,X_test,y_test,gridsearchon):\n",
        "  accuracy1=[]\n",
        "  if gridsearchon==\"max_depth\":\n",
        "    search=[4,6,8,12,15,20]\n",
        "    for x in search:\n",
        "      clf1=DecisionTreeClassifier(criterion='entropy', splitter='random', max_depth=x).fit(X_train,y_train)\n",
        "      y_pred=clf1.predict(X_test)\n",
        "      accuracy1.append(Accuracy(y_test,y_pred))\n",
        "  elif gridsearchon==\"splitter\":\n",
        "    search=['random','best']\n",
        "    for x in search:\n",
        "      clf1=DecisionTreeClassifier(criterion='entropy', splitter=x, max_depth=None).fit(X_train,y_train)\n",
        "      y_pred=clf1.predict(X_test)\n",
        "      accuracy1.append(Accuracy(y_test,y_pred))\n",
        "  else:\n",
        "    search=['entropy','gini']\n",
        "    for x in search:\n",
        "      clf1=DecisionTreeClassifier(criterion=x, splitter='random', max_depth=None).fit(X_train,y_train)\n",
        "      y_pred=clf1.predict(X_test)\n",
        "      accuracy1.append(Accuracy(y_test,y_pred))\n",
        "\n",
        "  plt.title('Decision Tree HyperParameter Search')\n",
        "  plt.plot(search,accuracy1)\n",
        "  plt.xlabel(gridsearchon)\n",
        "  plt.ylabel('Accuracy')"
      ],
      "execution_count": 0,
      "outputs": []
    },
    {
      "cell_type": "code",
      "metadata": {
        "id": "jCKC8JUS9yqM",
        "colab_type": "code",
        "outputId": "aecc3bc0-cfbe-4b72-cf7c-63d9319a7945",
        "colab": {
          "base_uri": "https://localhost:8080/",
          "height": 296
        }
      },
      "source": [
        "GridSearch_decisionTree(X_train,y_train,X_test,y_test,\"max_depth\")"
      ],
      "execution_count": 0,
      "outputs": [
        {
          "output_type": "display_data",
          "data": {
            "image/png": "[encoded data removed]",
            "text/plain": [
              "<Figure size 432x288 with 1 Axes>"
            ]
          },
          "metadata": {
            "tags": []
          }
        }
      ]
    },
    {
      "cell_type": "code",
      "metadata": {
        "id": "aXA9VuT8R2PT",
        "colab_type": "code",
        "colab": {}
      },
      "source": [
        "#Grid Search for KNN\n",
        "def GridSearch_KNN(X_train,y_train,X_test,y_test,k_range):\n",
        "  accuracy1=[]\n",
        "  X_train_new = (X_train- np.mean(X_train, axis=0)) / np.std(X_train, axis=0)\n",
        "  X_test_new = (X_test- np.mean(X_test, axis=0)) / np.std(X_test, axis=0)\n",
        "\n",
        "    \n",
        "  for k in range(1,k_range):\n",
        "    knn_classifier=KNeighborsClassifier(n_neighbors=k)\n",
        "    knn_classifier.fit(X_train_new,y_train)\n",
        "    y_pred=knn_classifier.predict(X_test_new)\n",
        "    accuracy1.append(Accuracy(y_test,y_pred))\n",
        "\n",
        "  plt.title('KNN HyperParameter Search')\n",
        "  plt.plot(range(1,k_range),accuracy1)\n",
        "  plt.xlabel('Number of k')\n",
        "  plt.ylabel('Accuracy')\n"
      ],
      "execution_count": 0,
      "outputs": []
    },
    {
      "cell_type": "code",
      "metadata": {
        "id": "QTO3vK0aFyLY",
        "colab_type": "code",
        "outputId": "04c3efcd-a898-4170-c551-5321895749cc",
        "colab": {
          "base_uri": "https://localhost:8080/",
          "height": 295
        }
      },
      "source": [
        "GridSearch_KNN(X_train,y_train,X_test,y_test,10)"
      ],
      "execution_count": 0,
      "outputs": [
        {
          "output_type": "display_data",
          "data": {
            "image/png": "[encoded data removed]",
            "text/plain": [
              "<Figure size 432x288 with 1 Axes>"
            ]
          },
          "metadata": {
            "tags": []
          }
        }
      ]
    },
    {
      "cell_type": "code",
      "metadata": {
        "id": "kezLoGPuF_8d",
        "colab_type": "code",
        "colab": {}
      },
      "source": [
        "#Grid Search for SVM\n",
        "def GridSearch_SVM(X_train,y_train,X_test,y_test,gridsearchon):\n",
        "  accuracy1=[]\n",
        "  if gridsearchon==\"kernel_type\":\n",
        "    search=['linear', 'poly', 'rbf', 'sigmoid']\n",
        "    for x in search:\n",
        "      clf1 = SVC(kernel=x,gamma='scale',C=1.0,degree=3).fit(X_train,y_train)\n",
        "      y_pred=clf1.predict(X_test)\n",
        "      accuracy1.append(Accuracy(y_test,y_pred))\n",
        "  elif gridsearchon==\"gamma\":\n",
        "    search=['scale','auto']\n",
        "    for x in search:\n",
        "      clf1 = SVC(kernel='linear',gamma=x,C=1.0,degree=3).fit(X_train,y_train)\n",
        "      y_pred=clf1.predict(X_test)\n",
        "      accuracy1.append(Accuracy(y_test,y_pred))\n",
        "  elif gridsearchon==\"C\":\n",
        "    search=[0.01,0.1,1.0,10.0,100.0]\n",
        "    for x in search:\n",
        "      clf1 = SVC(kernel='linear',gamma='scale',C=x,degree=3).fit(X_train,y_train)\n",
        "      y_pred=clf1.predict(X_test)\n",
        "      accuracy1.append(Accuracy(y_test,y_pred))\n",
        "  else:\n",
        "    search = [0, 1, 2, 3, 4, 5, 6]\n",
        "    for x in search:\n",
        "      clf1 = SVC(kernel='linear',gamma='scale',C=1.0,degree=x).fit(X_train,y_train)\n",
        "      y_pred=clf1.predict(X_test)\n",
        "      accuracy1.append(Accuracy(y_test,y_pred))\n",
        "\n",
        "  plt.title('SVM HyperParameter Search')\n",
        "  plt.plot(search,accuracy1)\n",
        "  plt.xlabel(gridsearchon)\n",
        "  plt.ylabel('Accuracy')\n"
      ],
      "execution_count": 0,
      "outputs": []
    },
    {
      "cell_type": "code",
      "metadata": {
        "id": "z_2OGrIeQ6b0",
        "colab_type": "code",
        "outputId": "98502af5-403b-47ca-d0d3-f0e205f8f13b",
        "colab": {
          "base_uri": "https://localhost:8080/",
          "height": 296
        }
      },
      "source": [
        "GridSearch_SVM(X_train,y_train,X_test,y_test,\"kernel_type\")"
      ],
      "execution_count": 0,
      "outputs": [
        {
          "output_type": "display_data",
          "data": {
            "image/png": "[encoded data removed]",
            "text/plain": [
              "<Figure size 432x288 with 1 Axes>"
            ]
          },
          "metadata": {
            "tags": []
          }
        }
      ]
    },
    {
      "cell_type": "code",
      "metadata": {
        "id": "2QunaskvZ8oM",
        "colab_type": "code",
        "outputId": "1441e21d-0e17-4b38-db83-fefe2019b5c7",
        "colab": {
          "base_uri": "https://localhost:8080/",
          "height": 72
        }
      },
      "source": [
        "####----- PCA from Scratch ------####\n",
        "y_pred_PCA=PCA(X_train,5)\n",
        "print(y_pred_PCA.shape)"
      ],
      "execution_count": 0,
      "outputs": [
        {
          "output_type": "stream",
          "text": [
            "(32764, 5)\n"
          ],
          "name": "stdout"
        },
        {
          "output_type": "stream",
          "text": [
            "/usr/local/lib/python3.6/dist-packages/ipykernel_launcher.py:91: FutureWarning: arrays to stack must be passed as a \"sequence\" type such as list or tuple. Support for non-sequence iterables such as generators is deprecated as of NumPy 1.16 and will raise an error in the future.\n"
          ],
          "name": "stderr"
        }
      ]
    },
    {
      "cell_type": "code",
      "metadata": {
        "id": "5LOr2caUa9k4",
        "colab_type": "code",
        "outputId": "39d93a95-4e72-4064-cc5e-6c0485f83411",
        "colab": {
          "base_uri": "https://localhost:8080/",
          "height": 1000
        }
      },
      "source": [
        "##------K means from Scratch -----###\n",
        "Kmean_centers=Kmeans(X_train,6)\n",
        "Kmean_centers"
      ],
      "execution_count": 0,
      "outputs": [
        {
          "output_type": "execute_result",
          "data": {
            "text/plain": [
              "array([[-2.51512000e-06, -2.22977600e-06,  3.22856000e-06,\n",
              "         3.44246000e-06, -1.03439620e-04,  5.28140000e-04,\n",
              "        -1.78156000e-02, -1.78136000e-02, -1.78168000e-02,\n",
              "         1.46340000e-03,  1.56660000e-03,  1.03840000e-03,\n",
              "         9.43130000e-04,  3.74664000e-04,  1.12959200e-03,\n",
              "         2.01448600e-03,  3.51163400e-03,  8.39054600e-03,\n",
              "         1.73468000e+00,  1.73468000e+00,  1.73462000e+00,\n",
              "         1.74032000e+00,  1.74046000e+00,  1.74036000e+00,\n",
              "        -2.37581720e-01,  1.95000000e-04,  6.51026000e-01,\n",
              "         1.99939844e+00, -4.52084000e-01,  1.16080800e+00,\n",
              "         7.16708000e-03,  7.16808000e-03,  7.18192000e-03,\n",
              "        -7.56993280e-03, -7.90862240e-03, -7.15492600e-03,\n",
              "         1.90451040e+01,  1.42106400e+01,  7.81476000e+01,\n",
              "         2.31970454e+02,  2.05133000e+01,  3.25751400e+01,\n",
              "        -1.49482000e+00, -1.49482000e+00, -1.49480000e+00,\n",
              "        -1.50386000e+00, -1.50422000e+00, -1.50386000e+00],\n",
              "       [-3.08169602e-06,  2.35561806e-06,  1.90096078e-05,\n",
              "        -2.39326038e-06,  3.68139635e-06, -2.18538743e-05,\n",
              "         4.67539591e-04,  4.65174200e-04,  4.46131316e-04,\n",
              "        -1.04335622e-02, -1.04372124e-02, -1.04153324e-02,\n",
              "         1.92543197e-03,  1.01733027e-03,  2.93025136e-03,\n",
              "         1.93164687e-03,  1.05333184e-03,  3.92408233e-03,\n",
              "         1.53332838e+00,  1.53327331e+00,  1.53278820e+00,\n",
              "         1.53296893e+00,  1.53291847e+00,  1.53240025e+00,\n",
              "         1.82309913e-03,  2.96159210e-03,  1.02833706e-03,\n",
              "        -4.09035626e-02,  2.61833262e-02, -1.57053778e-01,\n",
              "        -6.94665877e-04, -6.95510034e-04, -6.79754117e-04,\n",
              "         7.08342116e-04,  7.01112141e-04,  7.17834959e-04,\n",
              "        -6.42107982e-01,  1.58059635e+00,  5.81055564e+00,\n",
              "        -3.74238724e-02,  2.83690156e+00,  2.10994806e+01,\n",
              "        -1.50104481e+00, -1.50107047e+00, -1.50095282e+00,\n",
              "        -1.49771573e+00, -1.49773472e+00, -1.49759659e+00],\n",
              "       [-3.08004953e-06,  2.02842596e-06,  3.17247995e-06,\n",
              "        -8.62209170e-07,  2.50924087e-06,  6.65214525e-08,\n",
              "         1.52037256e-03,  1.51834113e-03,  1.51517059e-03,\n",
              "        -1.03683597e-02, -1.03708654e-02, -1.03709376e-02,\n",
              "         2.16096517e-03,  1.23040201e-03,  3.61581119e-03,\n",
              "         2.15085769e-03,  1.24033974e-03,  3.55699955e-03,\n",
              "         1.60206301e+00,  1.60199256e+00,  1.60139986e+00,\n",
              "         1.60188763e+00,  1.60181957e+00,  1.60123027e+00,\n",
              "         1.75558889e-03,  6.33627047e-03,  2.46003627e-03,\n",
              "        -8.65056048e-04,  1.73293473e-02, -1.06480688e-02,\n",
              "        -3.98053848e-05, -4.20674330e-05, -3.67074753e-05,\n",
              "         2.42387928e-04,  2.38423447e-04,  2.47942588e-04,\n",
              "        -6.43567357e-01,  3.09042538e+00,  5.94517652e+00,\n",
              "        -6.45712029e-01,  3.81168184e+00,  5.43046272e+00,\n",
              "        -1.50161882e+00, -1.50164819e+00, -1.50150887e+00,\n",
              "        -1.49763172e+00, -1.49765971e+00, -1.49752275e+00],\n",
              "       [-5.49411229e-06, -1.06545026e-06,  4.04099953e-06,\n",
              "        -3.65513807e-06,  3.14850781e-07, -2.41053665e-06,\n",
              "         1.78918631e-03,  1.79025066e-03,  1.78622353e-03,\n",
              "        -1.72982804e-02, -1.72986071e-02, -1.72961995e-02,\n",
              "         1.30948705e-03,  9.43493566e-04,  1.90694156e-03,\n",
              "         1.29755892e-03,  7.23411460e-04,  1.95487291e-03,\n",
              "         1.69919615e+00,  1.69914977e+00,  1.69892822e+00,\n",
              "         1.69776271e+00,  1.69772788e+00,  1.69751033e+00,\n",
              "         2.40677976e-03, -4.55374692e-03,  1.53508453e-02,\n",
              "         5.66630720e-04,  3.54132231e-02, -3.55305376e-02,\n",
              "        -2.04877903e-04, -2.09686826e-04, -2.12621552e-04,\n",
              "        -4.74942929e-04, -4.77590737e-04, -4.73918875e-04,\n",
              "        -3.58240608e-01,  3.48931774e+01,  9.82723271e+00,\n",
              "        -5.53013825e-01,  1.13340638e+01,  1.23440716e+01,\n",
              "        -1.49947533e+00, -1.49948878e+00, -1.49943953e+00,\n",
              "        -1.49813888e+00, -1.49814918e+00, -1.49809905e+00],\n",
              "       [-2.37560694e-06,  1.70104724e-06, -3.36098112e-06,\n",
              "        -1.09814906e-06,  3.78429589e-07,  7.91757436e-07,\n",
              "         3.11006698e-03,  3.10836977e-03,  3.11173513e-03,\n",
              "        -1.30140385e-02, -1.30144267e-02, -1.30152284e-02,\n",
              "         1.52438397e-03,  8.78477957e-04,  2.61728768e-03,\n",
              "         1.51003828e-03,  8.37164284e-04,  2.49146824e-03,\n",
              "         1.63014141e+00,  1.63009087e+00,  1.62976478e+00,\n",
              "         1.62922245e+00,  1.62917896e+00,  1.62885494e+00,\n",
              "         2.83254629e-03,  1.76075193e-02, -2.15604469e-02,\n",
              "         1.02205468e-03,  2.62072036e-03, -4.84439087e-03,\n",
              "        -2.92892558e-05, -2.93499284e-05, -2.34574035e-05,\n",
              "        -2.75809763e-04, -2.76606045e-04, -2.75009098e-04,\n",
              "        -6.31226036e-01,  8.56498230e+00,  1.43246695e+01,\n",
              "        -6.58416641e-01,  6.96041712e+00,  1.09597019e+01,\n",
              "        -1.50001466e+00, -1.50003422e+00, -1.49996713e+00,\n",
              "        -1.49792765e+00, -1.49794276e+00, -1.49787104e+00],\n",
              "       [-2.67353442e-06,  1.34408464e-06, -9.78052444e-07,\n",
              "        -6.96943480e-07,  8.21160729e-07,  2.51424712e-06,\n",
              "         2.57121486e-03,  2.56987213e-03,  2.57082873e-03,\n",
              "        -1.42845782e-02, -1.42853827e-02, -1.42878722e-02,\n",
              "         1.32137225e-03,  6.69960188e-04,  1.73756782e-03,\n",
              "         1.32546379e-03,  9.06776989e-04,  2.09919841e-03,\n",
              "         1.62232766e+00,  1.62229447e+00,  1.62206938e+00,\n",
              "         1.62113592e+00,  1.62109397e+00,  1.62085242e+00,\n",
              "        -2.75821428e-03,  8.47834401e-03,  8.59078692e-03,\n",
              "        -2.95024722e-03,  2.04725019e-02, -5.57118165e-03,\n",
              "        -6.47401539e-05, -6.74182894e-05, -6.71823543e-05,\n",
              "        -3.75099846e-04, -3.74604430e-04, -3.78603569e-04,\n",
              "        -2.08425022e-02,  5.26339510e+00,  8.19570687e+00,\n",
              "        -4.70982086e-01,  3.33196059e+01,  1.31590178e+01,\n",
              "        -1.49940364e+00, -1.49941223e+00, -1.49937252e+00,\n",
              "        -1.49799251e+00, -1.49800631e+00, -1.49794943e+00]])"
            ]
          },
          "metadata": {
            "tags": []
          },
          "execution_count": 25
        }
      ]
    },
    {
      "cell_type": "code",
      "metadata": {
        "id": "sEvMxPBZbJ34",
        "colab_type": "code",
        "colab": {}
      },
      "source": [
        "####----- KNN from Scratch ------####\n",
        "y_pred_KNN=KNN(X_train,X_test,y_train,10)\n",
        "print(Accuracy(y_test,y_pred))"
      ],
      "execution_count": 0,
      "outputs": []
    },
    {
      "cell_type": "code",
      "metadata": {
        "id": "Ad-6YrQQcSbH",
        "colab_type": "code",
        "colab": {}
      },
      "source": [
        "### --- Random Forest from scratch ----- ###\n",
        "y_pred_random=RandomForest(X_train,y_train,X_test)\n",
        "print(Accuracy(y_test,y_pred_random))"
      ],
      "execution_count": 0,
      "outputs": []
    },
    {
      "cell_type": "markdown",
      "metadata": {
        "id": "yzynwoEiaWlK",
        "colab_type": "text"
      },
      "source": [
        ""
      ]
    }
  ]
}